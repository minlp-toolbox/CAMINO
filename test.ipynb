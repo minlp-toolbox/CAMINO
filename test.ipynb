{
 "cells": [
  {
   "cell_type": "code",
   "execution_count": null,
   "metadata": {},
   "outputs": [],
   "source": [
    "import numpy as np"
   ]
  },
  {
   "cell_type": "code",
   "execution_count": null,
   "metadata": {},
   "outputs": [],
   "source": [
    "np.tri(3,3)"
   ]
  },
  {
   "cell_type": "code",
   "execution_count": null,
   "metadata": {},
   "outputs": [],
   "source": [
    "\n",
    "np.tri(6, 3, 0)"
   ]
  },
  {
   "cell_type": "code",
   "execution_count": null,
   "metadata": {},
   "outputs": [],
   "source": [
    "nb = 2\n",
    "N = 5"
   ]
  },
  {
   "cell_type": "code",
   "execution_count": null,
   "metadata": {},
   "outputs": [],
   "source": [
    "a=np.tri(N,N)\n",
    "time_steps = np.array([1,1,2,2,1])"
   ]
  },
  {
   "cell_type": "code",
   "execution_count": null,
   "metadata": {},
   "outputs": [],
   "source": [
    "m = np.dstack([time_step * np.tri(N,N) for _ in range(nb)]).reshape(N, N*nb)"
   ]
  },
  {
   "cell_type": "code",
   "execution_count": null,
   "metadata": {},
   "outputs": [],
   "source": [
    "m"
   ]
  },
  {
   "cell_type": "code",
   "execution_count": null,
   "metadata": {},
   "outputs": [],
   "source": [
    "m "
   ]
  },
  {
   "cell_type": "code",
   "execution_count": null,
   "metadata": {},
   "outputs": [],
   "source": [
    "m.T @ m"
   ]
  },
  {
   "cell_type": "code",
   "execution_count": null,
   "metadata": {},
   "outputs": [],
   "source": [
    "m = np.flip(m)\n",
    "m"
   ]
  },
  {
   "cell_type": "code",
   "execution_count": null,
   "metadata": {},
   "outputs": [],
   "source": [
    "m.shape"
   ]
  },
  {
   "cell_type": "code",
   "execution_count": null,
   "metadata": {},
   "outputs": [],
   "source": [
    "m @ m.T"
   ]
  },
  {
   "cell_type": "code",
   "execution_count": null,
   "metadata": {},
   "outputs": [],
   "source": [
    "m.T @ m"
   ]
  },
  {
   "cell_type": "code",
   "execution_count": null,
   "metadata": {},
   "outputs": [],
   "source": [
    "np.linalg.eig(m.T@m)"
   ]
  },
  {
   "cell_type": "code",
   "execution_count": null,
   "metadata": {},
   "outputs": [],
   "source": [
    "a"
   ]
  },
  {
   "cell_type": "code",
   "execution_count": null,
   "metadata": {},
   "outputs": [],
   "source": [
    "a.T@a"
   ]
  },
  {
   "cell_type": "code",
   "execution_count": null,
   "metadata": {},
   "outputs": [],
   "source": [
    "np.linalg.eig(a.T@a)"
   ]
  },
  {
   "cell_type": "code",
   "execution_count": null,
   "metadata": {},
   "outputs": [],
   "source": [
    "a"
   ]
  },
  {
   "cell_type": "code",
   "execution_count": null,
   "metadata": {},
   "outputs": [],
   "source": [
    "m"
   ]
  },
  {
   "cell_type": "code",
   "execution_count": null,
   "metadata": {},
   "outputs": [],
   "source": [
    "sqrt_w = np.arange(1,6) * m"
   ]
  },
  {
   "cell_type": "code",
   "execution_count": null,
   "metadata": {},
   "outputs": [],
   "source": [
    "grid = np.arange(1,6)"
   ]
  },
  {
   "cell_type": "code",
   "execution_count": null,
   "metadata": {},
   "outputs": [],
   "source": [
    "np.inner(m, grid)\n"
   ]
  },
  {
   "cell_type": "code",
   "execution_count": null,
   "metadata": {},
   "outputs": [],
   "source": [
    "np.einsum('tn,t->tn', m, grid)"
   ]
  },
  {
   "cell_type": "code",
   "execution_count": null,
   "metadata": {},
   "outputs": [],
   "source": [
    "sqrt_w.T @ sqrt_w"
   ]
  },
  {
   "cell_type": "code",
   "execution_count": null,
   "metadata": {},
   "outputs": [],
   "source": [
    "sqrt_w.T @ sqrt_w"
   ]
  },
  {
   "cell_type": "code",
   "execution_count": null,
   "metadata": {},
   "outputs": [],
   "source": [
    "sqrt_w.T"
   ]
  },
  {
   "cell_type": "code",
   "execution_count": null,
   "metadata": {},
   "outputs": [],
   "source": [
    "m"
   ]
  },
  {
   "cell_type": "code",
   "execution_count": null,
   "metadata": {},
   "outputs": [],
   "source": [
    "a = 1\n",
    "b = 3"
   ]
  },
  {
   "cell_type": "code",
   "execution_count": null,
   "metadata": {},
   "outputs": [],
   "source": [
    "if (a==0) | (b>2):\n",
    "    print('ok')"
   ]
  },
  {
   "cell_type": "code",
   "execution_count": null,
   "metadata": {},
   "outputs": [],
   "source": [
    "a = ['a', 'b']\n",
    "b = ['c', 'd']"
   ]
  },
  {
   "cell_type": "code",
   "execution_count": null,
   "metadata": {},
   "outputs": [],
   "source": [
    "a + b"
   ]
  },
  {
   "cell_type": "code",
   "execution_count": null,
   "metadata": {},
   "outputs": [],
   "source": [
    "c = []"
   ]
  },
  {
   "cell_type": "code",
   "execution_count": null,
   "metadata": {},
   "outputs": [],
   "source": [
    "c"
   ]
  },
  {
   "cell_type": "code",
   "execution_count": null,
   "metadata": {},
   "outputs": [],
   "source": [
    "c.append(a)"
   ]
  },
  {
   "cell_type": "code",
   "execution_count": null,
   "metadata": {},
   "outputs": [],
   "source": [
    "c"
   ]
  },
  {
   "cell_type": "code",
   "execution_count": null,
   "metadata": {},
   "outputs": [],
   "source": [
    "print(c)"
   ]
  },
  {
   "cell_type": "code",
   "execution_count": null,
   "metadata": {},
   "outputs": [],
   "source": [
    "c.append(b)"
   ]
  },
  {
   "cell_type": "code",
   "execution_count": null,
   "metadata": {},
   "outputs": [],
   "source": [
    "c"
   ]
  },
  {
   "cell_type": "code",
   "execution_count": null,
   "metadata": {},
   "outputs": [],
   "source": [
    "\n",
    "c[1]"
   ]
  },
  {
   "cell_type": "code",
   "execution_count": null,
   "metadata": {},
   "outputs": [],
   "source": [
    "a = []"
   ]
  },
  {
   "cell_type": "code",
   "execution_count": 1,
   "metadata": {},
   "outputs": [],
   "source": [
    "import pickle"
   ]
  },
  {
   "cell_type": "code",
   "execution_count": 10,
   "metadata": {},
   "outputs": [],
   "source": [
    "with open(\"results/voronoi/binapprox_miqp_CIA_STD_iter_1.pickle\", \"rb\") as f:\n",
    "    sol_pkl = pickle.load(f)"
   ]
  },
  {
   "cell_type": "code",
   "execution_count": 11,
   "metadata": {},
   "outputs": [
    {
     "name": "stdout",
     "output_type": "stream",
     "text": [
      "['_BINARY_TOLERANCE', '_CXX_COMPILERS', '_CXX_FLAGS', '_CXX_FLAG_NO_OPT', '_CXX_FLAG_OPT', '_LOGFILE_LOCATION', '_MAX_NUM_BNB_INTERATIONS', '_NLP_OBJECT_FILENAME', '_NLP_SOURCE_FILENAME', '_ODE_FILENAME', '_PATH_TO_NLP_OBJECT', '_PATH_TO_NLP_SOURCE', '_PATH_TO_ODE_FILE', '_SECONDS_TIMEOUT_BEFORE_NEXT_TIME_GRID_POINT', '__class__', '__delattr__', '__dict__', '__dir__', '__doc__', '__eq__', '__format__', '__ge__', '__getattribute__', '__gt__', '__hash__', '__init__', '__init_subclass__', '__le__', '__lt__', '__module__', '__ne__', '__new__', '__reduce__', '__reduce_ex__', '__repr__', '__setattr__', '__sizeof__', '__str__', '__subclasshook__', '__weakref__', '_approximate_binary_controls_from_relaxed_solution', '_b_data', '_check_compiler_availability', '_collect_nlp_results', '_collect_solver_stats', '_compile_nlp_object', '_export_nlp_to_c_code', '_initialize_nlp_set_up_flag', '_integrator', '_j_qp', '_load_ode_from_file', '_nlp_set_up', '_predictor', '_previous_solver', '_remove_unserializable_attributes', '_s_ac_lb_data', '_s_ac_ub_data', '_s_ppsc_data', '_s_x_data', '_save_binary_variables_indices', '_save_ode_to_file', '_save_qp_components_to_file', '_set_binary_controls_if_fixed', '_set_dwell_times_ba', '_set_dwell_times_miqp', '_set_j_qp', '_set_predictor', '_set_previous_solver', '_set_voronoi_miqp', '_set_warm_start', '_setup_ba', '_setup_collocation_options', '_setup_directories', '_setup_directory', '_setup_general_solver_options', '_setup_miqp', '_setup_model', '_setup_model_variables', '_setup_nlp', '_setup_nlp_components', '_setup_nlp_functions', '_setup_operation_specifications_and_limits', '_setup_qp_components', '_setup_reduced_qp_components', '_setup_simulation_control_parameters', '_setup_simulator', '_setup_solver_name', '_setup_solver_type', '_setup_system_components', '_setup_system_dimensions', '_setup_timing', '_solve_ba', '_solve_miqp', '_solver_name', '_solver_options', '_solver_stats', '_solver_type', '_timing', '_u_data', '_voronoi', '_x_data', 'b_data', 'b_index', 'c_data', 'c_index', 'd', 'generate_nlp_object', 'generate_ode_file', 'generate_qp_files', 'j_qp', 'load_ode_object', 'n_s_ac_lb', 'n_s_ac_ub', 'nb', 'nc', 'nu', 'nx', 'nx_aux', 'p', 'p_csim', 'p_op', 's_ac_lb_data', 's_ac_ub_data', 's_ppsc_data', 's_x_data', 'set_solver_max_cpu_time', 'solve', 'solve_successful', 'solver_name', 'solver_type', 'solver_wall_time', 'tau_root', 'time_grid', 'time_points', 'u_data', 'u_index', 'v_opt', 'voronoi', 'x_aux_index', 'x_data', 'x_hat', 'x_index']\n"
     ]
    }
   ],
   "source": [
    "print(dir(sol_pkl))"
   ]
  },
  {
   "cell_type": "code",
   "execution_count": 12,
   "metadata": {},
   "outputs": [
    {
     "data": {
      "text/plain": [
       "79.62904906272888"
      ]
     },
     "execution_count": 12,
     "metadata": {},
     "output_type": "execute_result"
    }
   ],
   "source": [
    "getattr(sol_pkl, \"solver_wall_time\")"
   ]
  },
  {
   "cell_type": "code",
   "execution_count": 13,
   "metadata": {},
   "outputs": [
    {
     "ename": "AttributeError",
     "evalue": "'NoneType' object has no attribute 'shape'",
     "output_type": "error",
     "traceback": [
      "\u001b[0;31m---------------------------------------------------------------------------\u001b[0m",
      "\u001b[0;31mAttributeError\u001b[0m                            Traceback (most recent call last)",
      "\u001b[1;32m/Users/aghezzi/python/stcs-voronoi/test.ipynb Cell 45\u001b[0m in \u001b[0;36m<cell line: 3>\u001b[0;34m()\u001b[0m\n\u001b[1;32m      <a href='vscode-notebook-cell:/Users/aghezzi/python/stcs-voronoi/test.ipynb#X62sZmlsZQ%3D%3D?line=0'>1</a>\u001b[0m voronoi_dict \u001b[39m=\u001b[39m \u001b[39mgetattr\u001b[39m(sol_pkl, \u001b[39m\"\u001b[39m\u001b[39mvoronoi\u001b[39m\u001b[39m\"\u001b[39m)\n\u001b[1;32m      <a href='vscode-notebook-cell:/Users/aghezzi/python/stcs-voronoi/test.ipynb#X62sZmlsZQ%3D%3D?line=1'>2</a>\u001b[0m voronoi_dict\u001b[39m.\u001b[39m\u001b[39m__dict__\u001b[39m\u001b[39m.\u001b[39mkeys()\n\u001b[0;32m----> <a href='vscode-notebook-cell:/Users/aghezzi/python/stcs-voronoi/test.ipynb#X62sZmlsZQ%3D%3D?line=2'>3</a>\u001b[0m \u001b[39mprint\u001b[39m(voronoi_dict\u001b[39m.\u001b[39;49m_A_v\u001b[39m.\u001b[39;49mshape)\n",
      "\u001b[0;31mAttributeError\u001b[0m: 'NoneType' object has no attribute 'shape'"
     ]
    }
   ],
   "source": [
    "voronoi_dict = getattr(sol_pkl, \"voronoi\")\n",
    "voronoi_dict.__dict__.keys()\n",
    "print(voronoi_dict._A_v.shape)"
   ]
  },
  {
   "cell_type": "code",
   "execution_count": null,
   "metadata": {},
   "outputs": [],
   "source": [
    "tmp = getattr(sol_pkl, \"b_data\")"
   ]
  },
  {
   "cell_type": "code",
   "execution_count": null,
   "metadata": {},
   "outputs": [],
   "source": []
  },
  {
   "cell_type": "code",
   "execution_count": null,
   "metadata": {},
   "outputs": [],
   "source": [
    "with open(\"results/voronoi/nlpsolver_bin_miqp_CIA_STD_iter_3_test.pickle\", \"rb\") as f:\n",
    "    sol_pkl = pickle.load(f)"
   ]
  },
  {
   "cell_type": "code",
   "execution_count": null,
   "metadata": {},
   "outputs": [],
   "source": [
    "print(dir(sol_pkl))"
   ]
  },
  {
   "cell_type": "code",
   "execution_count": null,
   "metadata": {},
   "outputs": [],
   "source": [
    "tmp_test = getattr(sol_pkl, \"b_data\")"
   ]
  },
  {
   "cell_type": "code",
   "execution_count": null,
   "metadata": {},
   "outputs": [],
   "source": [
    "type(tmp)"
   ]
  },
  {
   "cell_type": "code",
   "execution_count": null,
   "metadata": {},
   "outputs": [],
   "source": [
    "import numpy as np\n",
    "np.testing.assert_array_equal(tmp, tmp_test)"
   ]
  },
  {
   "cell_type": "code",
   "execution_count": null,
   "metadata": {},
   "outputs": [],
   "source": []
  }
 ],
 "metadata": {
  "kernelspec": {
   "display_name": "Python 3.8.12 64-bit ('venv_voronoi')",
   "language": "python",
   "name": "python3"
  },
  "language_info": {
   "codemirror_mode": {
    "name": "ipython",
    "version": 3
   },
   "file_extension": ".py",
   "mimetype": "text/x-python",
   "name": "python",
   "nbconvert_exporter": "python",
   "pygments_lexer": "ipython3",
   "version": "3.8.12"
  },
  "orig_nbformat": 4,
  "vscode": {
   "interpreter": {
    "hash": "a344f69e2e9a53e3fe4facd1c00f1baff1a8b5ebc2de901d76698f5c75b738ae"
   }
  }
 },
 "nbformat": 4,
 "nbformat_minor": 2
}
